{
 "cells": [
  {
   "cell_type": "code",
   "execution_count": 1,
   "id": "d3d3e25e",
   "metadata": {},
   "outputs": [],
   "source": [
    "import warnings\n",
    "warnings.filterwarnings('ignore')"
   ]
  },
  {
   "cell_type": "code",
   "execution_count": 2,
   "id": "f197a122",
   "metadata": {},
   "outputs": [],
   "source": [
    "import numpy as np\n",
    "import pandas as pd"
   ]
  },
  {
   "cell_type": "code",
   "execution_count": 3,
   "id": "dbfec2fd",
   "metadata": {},
   "outputs": [
    {
     "data": {
      "text/html": [
       "<div>\n",
       "<style scoped>\n",
       "    .dataframe tbody tr th:only-of-type {\n",
       "        vertical-align: middle;\n",
       "    }\n",
       "\n",
       "    .dataframe tbody tr th {\n",
       "        vertical-align: top;\n",
       "    }\n",
       "\n",
       "    .dataframe thead th {\n",
       "        text-align: right;\n",
       "    }\n",
       "</style>\n",
       "<table border=\"1\" class=\"dataframe\">\n",
       "  <thead>\n",
       "    <tr style=\"text-align: right;\">\n",
       "      <th></th>\n",
       "      <th>Unnamed: 0</th>\n",
       "      <th>carat</th>\n",
       "      <th>cut</th>\n",
       "      <th>color</th>\n",
       "      <th>clarity</th>\n",
       "      <th>depth</th>\n",
       "      <th>table</th>\n",
       "      <th>price</th>\n",
       "      <th>x</th>\n",
       "      <th>y</th>\n",
       "      <th>z</th>\n",
       "    </tr>\n",
       "  </thead>\n",
       "  <tbody>\n",
       "    <tr>\n",
       "      <th>0</th>\n",
       "      <td>1</td>\n",
       "      <td>0.23</td>\n",
       "      <td>Ideal</td>\n",
       "      <td>E</td>\n",
       "      <td>SI2</td>\n",
       "      <td>61.5</td>\n",
       "      <td>55.0</td>\n",
       "      <td>326</td>\n",
       "      <td>3.95</td>\n",
       "      <td>3.98</td>\n",
       "      <td>2.43</td>\n",
       "    </tr>\n",
       "    <tr>\n",
       "      <th>1</th>\n",
       "      <td>2</td>\n",
       "      <td>0.21</td>\n",
       "      <td>Premium</td>\n",
       "      <td>E</td>\n",
       "      <td>SI1</td>\n",
       "      <td>59.8</td>\n",
       "      <td>61.0</td>\n",
       "      <td>326</td>\n",
       "      <td>3.89</td>\n",
       "      <td>3.84</td>\n",
       "      <td>2.31</td>\n",
       "    </tr>\n",
       "    <tr>\n",
       "      <th>2</th>\n",
       "      <td>3</td>\n",
       "      <td>0.23</td>\n",
       "      <td>Good</td>\n",
       "      <td>E</td>\n",
       "      <td>VS1</td>\n",
       "      <td>56.9</td>\n",
       "      <td>65.0</td>\n",
       "      <td>327</td>\n",
       "      <td>4.05</td>\n",
       "      <td>4.07</td>\n",
       "      <td>2.31</td>\n",
       "    </tr>\n",
       "    <tr>\n",
       "      <th>3</th>\n",
       "      <td>4</td>\n",
       "      <td>0.29</td>\n",
       "      <td>Premium</td>\n",
       "      <td>I</td>\n",
       "      <td>VS2</td>\n",
       "      <td>62.4</td>\n",
       "      <td>58.0</td>\n",
       "      <td>334</td>\n",
       "      <td>4.20</td>\n",
       "      <td>4.23</td>\n",
       "      <td>2.63</td>\n",
       "    </tr>\n",
       "    <tr>\n",
       "      <th>4</th>\n",
       "      <td>5</td>\n",
       "      <td>0.31</td>\n",
       "      <td>Good</td>\n",
       "      <td>J</td>\n",
       "      <td>SI2</td>\n",
       "      <td>63.3</td>\n",
       "      <td>58.0</td>\n",
       "      <td>335</td>\n",
       "      <td>4.34</td>\n",
       "      <td>4.35</td>\n",
       "      <td>2.75</td>\n",
       "    </tr>\n",
       "  </tbody>\n",
       "</table>\n",
       "</div>"
      ],
      "text/plain": [
       "   Unnamed: 0  carat      cut color clarity  depth  table  price     x     y  \\\n",
       "0           1   0.23    Ideal     E     SI2   61.5   55.0    326  3.95  3.98   \n",
       "1           2   0.21  Premium     E     SI1   59.8   61.0    326  3.89  3.84   \n",
       "2           3   0.23     Good     E     VS1   56.9   65.0    327  4.05  4.07   \n",
       "3           4   0.29  Premium     I     VS2   62.4   58.0    334  4.20  4.23   \n",
       "4           5   0.31     Good     J     SI2   63.3   58.0    335  4.34  4.35   \n",
       "\n",
       "      z  \n",
       "0  2.43  \n",
       "1  2.31  \n",
       "2  2.31  \n",
       "3  2.63  \n",
       "4  2.75  "
      ]
     },
     "execution_count": 3,
     "metadata": {},
     "output_type": "execute_result"
    }
   ],
   "source": [
    "df = pd.read_csv('diamonds.csv')\n",
    "df.head()"
   ]
  },
  {
   "cell_type": "code",
   "execution_count": 4,
   "id": "54b3b593",
   "metadata": {},
   "outputs": [
    {
     "data": {
      "text/plain": [
       "(53940, 11)"
      ]
     },
     "execution_count": 4,
     "metadata": {},
     "output_type": "execute_result"
    }
   ],
   "source": [
    "df.shape"
   ]
  },
  {
   "cell_type": "code",
   "execution_count": 5,
   "id": "c97fee0c",
   "metadata": {},
   "outputs": [
    {
     "data": {
      "text/html": [
       "<div>\n",
       "<style scoped>\n",
       "    .dataframe tbody tr th:only-of-type {\n",
       "        vertical-align: middle;\n",
       "    }\n",
       "\n",
       "    .dataframe tbody tr th {\n",
       "        vertical-align: top;\n",
       "    }\n",
       "\n",
       "    .dataframe thead th {\n",
       "        text-align: right;\n",
       "    }\n",
       "</style>\n",
       "<table border=\"1\" class=\"dataframe\">\n",
       "  <thead>\n",
       "    <tr style=\"text-align: right;\">\n",
       "      <th></th>\n",
       "      <th>Unnamed: 0</th>\n",
       "      <th>carat</th>\n",
       "      <th>depth</th>\n",
       "      <th>table</th>\n",
       "      <th>price</th>\n",
       "      <th>x</th>\n",
       "      <th>y</th>\n",
       "      <th>z</th>\n",
       "    </tr>\n",
       "  </thead>\n",
       "  <tbody>\n",
       "    <tr>\n",
       "      <th>count</th>\n",
       "      <td>53940.000000</td>\n",
       "      <td>53940.000000</td>\n",
       "      <td>53940.000000</td>\n",
       "      <td>53940.000000</td>\n",
       "      <td>53940.000000</td>\n",
       "      <td>53940.000000</td>\n",
       "      <td>53940.000000</td>\n",
       "      <td>53940.000000</td>\n",
       "    </tr>\n",
       "    <tr>\n",
       "      <th>mean</th>\n",
       "      <td>26970.500000</td>\n",
       "      <td>0.797940</td>\n",
       "      <td>61.749405</td>\n",
       "      <td>57.457184</td>\n",
       "      <td>3932.799722</td>\n",
       "      <td>5.731157</td>\n",
       "      <td>5.734526</td>\n",
       "      <td>3.538734</td>\n",
       "    </tr>\n",
       "    <tr>\n",
       "      <th>std</th>\n",
       "      <td>15571.281097</td>\n",
       "      <td>0.474011</td>\n",
       "      <td>1.432621</td>\n",
       "      <td>2.234491</td>\n",
       "      <td>3989.439738</td>\n",
       "      <td>1.121761</td>\n",
       "      <td>1.142135</td>\n",
       "      <td>0.705699</td>\n",
       "    </tr>\n",
       "    <tr>\n",
       "      <th>min</th>\n",
       "      <td>1.000000</td>\n",
       "      <td>0.200000</td>\n",
       "      <td>43.000000</td>\n",
       "      <td>43.000000</td>\n",
       "      <td>326.000000</td>\n",
       "      <td>0.000000</td>\n",
       "      <td>0.000000</td>\n",
       "      <td>0.000000</td>\n",
       "    </tr>\n",
       "    <tr>\n",
       "      <th>25%</th>\n",
       "      <td>13485.750000</td>\n",
       "      <td>0.400000</td>\n",
       "      <td>61.000000</td>\n",
       "      <td>56.000000</td>\n",
       "      <td>950.000000</td>\n",
       "      <td>4.710000</td>\n",
       "      <td>4.720000</td>\n",
       "      <td>2.910000</td>\n",
       "    </tr>\n",
       "    <tr>\n",
       "      <th>50%</th>\n",
       "      <td>26970.500000</td>\n",
       "      <td>0.700000</td>\n",
       "      <td>61.800000</td>\n",
       "      <td>57.000000</td>\n",
       "      <td>2401.000000</td>\n",
       "      <td>5.700000</td>\n",
       "      <td>5.710000</td>\n",
       "      <td>3.530000</td>\n",
       "    </tr>\n",
       "    <tr>\n",
       "      <th>75%</th>\n",
       "      <td>40455.250000</td>\n",
       "      <td>1.040000</td>\n",
       "      <td>62.500000</td>\n",
       "      <td>59.000000</td>\n",
       "      <td>5324.250000</td>\n",
       "      <td>6.540000</td>\n",
       "      <td>6.540000</td>\n",
       "      <td>4.040000</td>\n",
       "    </tr>\n",
       "    <tr>\n",
       "      <th>max</th>\n",
       "      <td>53940.000000</td>\n",
       "      <td>5.010000</td>\n",
       "      <td>79.000000</td>\n",
       "      <td>95.000000</td>\n",
       "      <td>18823.000000</td>\n",
       "      <td>10.740000</td>\n",
       "      <td>58.900000</td>\n",
       "      <td>31.800000</td>\n",
       "    </tr>\n",
       "  </tbody>\n",
       "</table>\n",
       "</div>"
      ],
      "text/plain": [
       "         Unnamed: 0         carat         depth         table         price  \\\n",
       "count  53940.000000  53940.000000  53940.000000  53940.000000  53940.000000   \n",
       "mean   26970.500000      0.797940     61.749405     57.457184   3932.799722   \n",
       "std    15571.281097      0.474011      1.432621      2.234491   3989.439738   \n",
       "min        1.000000      0.200000     43.000000     43.000000    326.000000   \n",
       "25%    13485.750000      0.400000     61.000000     56.000000    950.000000   \n",
       "50%    26970.500000      0.700000     61.800000     57.000000   2401.000000   \n",
       "75%    40455.250000      1.040000     62.500000     59.000000   5324.250000   \n",
       "max    53940.000000      5.010000     79.000000     95.000000  18823.000000   \n",
       "\n",
       "                  x             y             z  \n",
       "count  53940.000000  53940.000000  53940.000000  \n",
       "mean       5.731157      5.734526      3.538734  \n",
       "std        1.121761      1.142135      0.705699  \n",
       "min        0.000000      0.000000      0.000000  \n",
       "25%        4.710000      4.720000      2.910000  \n",
       "50%        5.700000      5.710000      3.530000  \n",
       "75%        6.540000      6.540000      4.040000  \n",
       "max       10.740000     58.900000     31.800000  "
      ]
     },
     "execution_count": 5,
     "metadata": {},
     "output_type": "execute_result"
    }
   ],
   "source": [
    "df.describe()"
   ]
  },
  {
   "cell_type": "code",
   "execution_count": 6,
   "id": "30f472a6",
   "metadata": {},
   "outputs": [
    {
     "name": "stdout",
     "output_type": "stream",
     "text": [
      "<class 'pandas.core.frame.DataFrame'>\n",
      "RangeIndex: 53940 entries, 0 to 53939\n",
      "Data columns (total 11 columns):\n",
      " #   Column      Non-Null Count  Dtype  \n",
      "---  ------      --------------  -----  \n",
      " 0   Unnamed: 0  53940 non-null  int64  \n",
      " 1   carat       53940 non-null  float64\n",
      " 2   cut         53940 non-null  object \n",
      " 3   color       53940 non-null  object \n",
      " 4   clarity     53940 non-null  object \n",
      " 5   depth       53940 non-null  float64\n",
      " 6   table       53940 non-null  float64\n",
      " 7   price       53940 non-null  int64  \n",
      " 8   x           53940 non-null  float64\n",
      " 9   y           53940 non-null  float64\n",
      " 10  z           53940 non-null  float64\n",
      "dtypes: float64(6), int64(2), object(3)\n",
      "memory usage: 4.5+ MB\n"
     ]
    }
   ],
   "source": [
    "df.info()"
   ]
  },
  {
   "cell_type": "code",
   "execution_count": 7,
   "id": "fa9c6ead",
   "metadata": {},
   "outputs": [
    {
     "data": {
      "text/plain": [
       "array(['Ideal', 'Premium', 'Good', 'Very Good', 'Fair'], dtype=object)"
      ]
     },
     "execution_count": 7,
     "metadata": {},
     "output_type": "execute_result"
    }
   ],
   "source": [
    "df.cut.unique()"
   ]
  },
  {
   "cell_type": "code",
   "execution_count": 8,
   "id": "57e0ec7b",
   "metadata": {},
   "outputs": [
    {
     "data": {
      "text/plain": [
       "array(['SI2', 'SI1', 'VS1', 'VS2', 'VVS2', 'VVS1', 'I1', 'IF'],\n",
       "      dtype=object)"
      ]
     },
     "execution_count": 8,
     "metadata": {},
     "output_type": "execute_result"
    }
   ],
   "source": [
    "df.clarity.unique()"
   ]
  },
  {
   "cell_type": "code",
   "execution_count": 9,
   "id": "3d7ae1fa",
   "metadata": {},
   "outputs": [
    {
     "data": {
      "text/plain": [
       "array(['E', 'I', 'J', 'H', 'F', 'G', 'D'], dtype=object)"
      ]
     },
     "execution_count": 9,
     "metadata": {},
     "output_type": "execute_result"
    }
   ],
   "source": [
    "df.color.unique()"
   ]
  },
  {
   "cell_type": "markdown",
   "id": "7a048039",
   "metadata": {},
   "source": [
    "#### About dataset - \n",
    "    1. Price in USD\n",
    "\n",
    "    2. Carat (weight of the diamond) \n",
    "\n",
    "    3. cut (quality of the cut) - Fair, Good, Very Good, Premium, Ideal\n",
    "\n",
    "    4. Color (diamond colour) -  from J (worst) to D (best)\n",
    "\n",
    "    5. Clarity (measurement of how clear the diamond) - I1 (worst), SI2, SI1, VS2, VS1, VVS2, VVS1, IF (best))\n",
    "\n",
    "    6. x length in mm (0--10.74)\n",
    "\n",
    "    7. y width in mm (0--58.90)\n",
    "\n",
    "    8. z depth in mm (0--31.80)\n",
    "\n",
    "    9. depth total depth percentage = z / mean(x, y) = 2 * z / (x + y) --> [43.00 to 79.00]\n",
    "\n",
    "    10. table width of top of diamond relative to widest point --> [43.00 to 95.00]"
   ]
  },
  {
   "cell_type": "code",
   "execution_count": 10,
   "id": "5f96129c",
   "metadata": {},
   "outputs": [
    {
     "data": {
      "text/plain": [
       "Unnamed: 0    0\n",
       "carat         0\n",
       "cut           0\n",
       "color         0\n",
       "clarity       0\n",
       "depth         0\n",
       "table         0\n",
       "price         0\n",
       "x             0\n",
       "y             0\n",
       "z             0\n",
       "dtype: int64"
      ]
     },
     "execution_count": 10,
     "metadata": {},
     "output_type": "execute_result"
    }
   ],
   "source": [
    "# Data Cleaning\n",
    "df.isnull().sum(axis = 0)"
   ]
  },
  {
   "cell_type": "code",
   "execution_count": 11,
   "id": "85cae6fd",
   "metadata": {},
   "outputs": [
    {
     "data": {
      "text/plain": [
       "array([[<Axes: title={'center': 'Unnamed: 0'}>,\n",
       "        <Axes: title={'center': 'carat'}>,\n",
       "        <Axes: title={'center': 'depth'}>],\n",
       "       [<Axes: title={'center': 'table'}>,\n",
       "        <Axes: title={'center': 'price'}>, <Axes: title={'center': 'x'}>],\n",
       "       [<Axes: title={'center': 'y'}>, <Axes: title={'center': 'z'}>,\n",
       "        <Axes: >]], dtype=object)"
      ]
     },
     "execution_count": 11,
     "metadata": {},
     "output_type": "execute_result"
    },
    {
     "data": {
      "image/png": "[encoded data removed]",
      "text/plain": [
       "<Figure size 640x480 with 9 Axes>"
      ]
     },
     "metadata": {},
     "output_type": "display_data"
    }
   ],
   "source": [
    "df.hist()"
   ]
  },
  {
   "cell_type": "code",
   "execution_count": 12,
   "id": "0bfa4f03",
   "metadata": {},
   "outputs": [
    {
     "ename": "ValueError",
     "evalue": "could not convert string to float: 'Ideal'",
     "output_type": "error",
     "traceback": [
      "\u001b[1;31m---------------------------------------------------------------------------\u001b[0m",
      "\u001b[1;31mValueError\u001b[0m                                Traceback (most recent call last)",
      "Cell \u001b[1;32mIn[12], line 1\u001b[0m\n\u001b[1;32m----> 1\u001b[0m corr \u001b[38;5;241m=\u001b[39m df\u001b[38;5;241m.\u001b[39mcorr()\n\u001b[0;32m      2\u001b[0m corr\u001b[38;5;241m.\u001b[39mstyle\u001b[38;5;241m.\u001b[39mbackground_gradient()\n",
      "File \u001b[1;32m~\\anaconda3\\Lib\\site-packages\\pandas\\core\\frame.py:10054\u001b[0m, in \u001b[0;36mDataFrame.corr\u001b[1;34m(self, method, min_periods, numeric_only)\u001b[0m\n\u001b[0;32m  10052\u001b[0m cols \u001b[38;5;241m=\u001b[39m data\u001b[38;5;241m.\u001b[39mcolumns\n\u001b[0;32m  10053\u001b[0m idx \u001b[38;5;241m=\u001b[39m cols\u001b[38;5;241m.\u001b[39mcopy()\n\u001b[1;32m> 10054\u001b[0m mat \u001b[38;5;241m=\u001b[39m data\u001b[38;5;241m.\u001b[39mto_numpy(dtype\u001b[38;5;241m=\u001b[39m\u001b[38;5;28mfloat\u001b[39m, na_value\u001b[38;5;241m=\u001b[39mnp\u001b[38;5;241m.\u001b[39mnan, copy\u001b[38;5;241m=\u001b[39m\u001b[38;5;28;01mFalse\u001b[39;00m)\n\u001b[0;32m  10056\u001b[0m \u001b[38;5;28;01mif\u001b[39;00m method \u001b[38;5;241m==\u001b[39m \u001b[38;5;124m\"\u001b[39m\u001b[38;5;124mpearson\u001b[39m\u001b[38;5;124m\"\u001b[39m:\n\u001b[0;32m  10057\u001b[0m     correl \u001b[38;5;241m=\u001b[39m libalgos\u001b[38;5;241m.\u001b[39mnancorr(mat, minp\u001b[38;5;241m=\u001b[39mmin_periods)\n",
      "File \u001b[1;32m~\\anaconda3\\Lib\\site-packages\\pandas\\core\\frame.py:1838\u001b[0m, in \u001b[0;36mDataFrame.to_numpy\u001b[1;34m(self, dtype, copy, na_value)\u001b[0m\n\u001b[0;32m   1836\u001b[0m \u001b[38;5;28;01mif\u001b[39;00m dtype \u001b[38;5;129;01mis\u001b[39;00m \u001b[38;5;129;01mnot\u001b[39;00m \u001b[38;5;28;01mNone\u001b[39;00m:\n\u001b[0;32m   1837\u001b[0m     dtype \u001b[38;5;241m=\u001b[39m np\u001b[38;5;241m.\u001b[39mdtype(dtype)\n\u001b[1;32m-> 1838\u001b[0m result \u001b[38;5;241m=\u001b[39m \u001b[38;5;28mself\u001b[39m\u001b[38;5;241m.\u001b[39m_mgr\u001b[38;5;241m.\u001b[39mas_array(dtype\u001b[38;5;241m=\u001b[39mdtype, copy\u001b[38;5;241m=\u001b[39mcopy, na_value\u001b[38;5;241m=\u001b[39mna_value)\n\u001b[0;32m   1839\u001b[0m \u001b[38;5;28;01mif\u001b[39;00m result\u001b[38;5;241m.\u001b[39mdtype \u001b[38;5;129;01mis\u001b[39;00m \u001b[38;5;129;01mnot\u001b[39;00m dtype:\n\u001b[0;32m   1840\u001b[0m     result \u001b[38;5;241m=\u001b[39m np\u001b[38;5;241m.\u001b[39marray(result, dtype\u001b[38;5;241m=\u001b[39mdtype, copy\u001b[38;5;241m=\u001b[39m\u001b[38;5;28;01mFalse\u001b[39;00m)\n",
      "File \u001b[1;32m~\\anaconda3\\Lib\\site-packages\\pandas\\core\\internals\\managers.py:1732\u001b[0m, in \u001b[0;36mBlockManager.as_array\u001b[1;34m(self, dtype, copy, na_value)\u001b[0m\n\u001b[0;32m   1730\u001b[0m         arr\u001b[38;5;241m.\u001b[39mflags\u001b[38;5;241m.\u001b[39mwriteable \u001b[38;5;241m=\u001b[39m \u001b[38;5;28;01mFalse\u001b[39;00m\n\u001b[0;32m   1731\u001b[0m \u001b[38;5;28;01melse\u001b[39;00m:\n\u001b[1;32m-> 1732\u001b[0m     arr \u001b[38;5;241m=\u001b[39m \u001b[38;5;28mself\u001b[39m\u001b[38;5;241m.\u001b[39m_interleave(dtype\u001b[38;5;241m=\u001b[39mdtype, na_value\u001b[38;5;241m=\u001b[39mna_value)\n\u001b[0;32m   1733\u001b[0m     \u001b[38;5;66;03m# The underlying data was copied within _interleave, so no need\u001b[39;00m\n\u001b[0;32m   1734\u001b[0m     \u001b[38;5;66;03m# to further copy if copy=True or setting na_value\u001b[39;00m\n\u001b[0;32m   1736\u001b[0m \u001b[38;5;28;01mif\u001b[39;00m na_value \u001b[38;5;129;01mis\u001b[39;00m \u001b[38;5;129;01mnot\u001b[39;00m lib\u001b[38;5;241m.\u001b[39mno_default:\n",
      "File \u001b[1;32m~\\anaconda3\\Lib\\site-packages\\pandas\\core\\internals\\managers.py:1794\u001b[0m, in \u001b[0;36mBlockManager._interleave\u001b[1;34m(self, dtype, na_value)\u001b[0m\n\u001b[0;32m   1792\u001b[0m     \u001b[38;5;28;01melse\u001b[39;00m:\n\u001b[0;32m   1793\u001b[0m         arr \u001b[38;5;241m=\u001b[39m blk\u001b[38;5;241m.\u001b[39mget_values(dtype)\n\u001b[1;32m-> 1794\u001b[0m     result[rl\u001b[38;5;241m.\u001b[39mindexer] \u001b[38;5;241m=\u001b[39m arr\n\u001b[0;32m   1795\u001b[0m     itemmask[rl\u001b[38;5;241m.\u001b[39mindexer] \u001b[38;5;241m=\u001b[39m \u001b[38;5;241m1\u001b[39m\n\u001b[0;32m   1797\u001b[0m \u001b[38;5;28;01mif\u001b[39;00m \u001b[38;5;129;01mnot\u001b[39;00m itemmask\u001b[38;5;241m.\u001b[39mall():\n",
      "\u001b[1;31mValueError\u001b[0m: could not convert string to float: 'Ideal'"
     ]
    }
   ],
   "source": [
    "corr = df.corr()\n",
    "corr.style.background_gradient()"
   ]
  },
  {
   "cell_type": "markdown",
   "id": "29dabda3",
   "metadata": {},
   "source": [
    "</p> The above, correlation plot shows that carat and price are in strong positive correlation. </br> Also, dimensions x, y, z of a diamond are also strongly positive coorelated with it's carat value (weight of diamond) </p>"
   ]
  },
  {
   "cell_type": "code",
   "execution_count": null,
   "id": "bea2e4a3",
   "metadata": {},
   "outputs": [],
   "source": [
    "import matplotlib.pyplot as plt\n",
    "%matplotlib inline\n",
    "import seaborn as sns\n",
    "sns.lineplot(x=\"carat\", y=\"price\", data=df)\n",
    "plt.figure(figsize = (30, 10))\n",
    "plt.show()\n",
    "#plt.savefig('pricevscarat0.png')"
   ]
  },
  {
   "cell_type": "code",
   "execution_count": null,
   "id": "1e211392",
   "metadata": {},
   "outputs": [],
   "source": [
    "import matplotlib.pyplot as plt \n",
    "%matplotlib inline\n",
    "import seaborn as sns\n",
    "sns.set()\n",
    "\n",
    "fig, axes = plt.subplots(nrows = 1, ncols = 3, figsize = (15, 3.5))\n",
    "\n",
    "fig.suptitle('Count plot of categorical Columns', y = 0.95, fontsize = 16)\n",
    "plt.subplots_adjust(hspace = 0.4, wspace = 0.4)\n",
    "\n",
    "for pos, name in enumerate(['cut', 'clarity', 'color']):\n",
    "    sns.countplot(data = df, x = name, ax = axes.flat[pos]);\n",
    "plt.savefig('countplotofcategorical.png')\n",
    "sns.despine()"
   ]
  },
  {
   "cell_type": "code",
   "execution_count": null,
   "id": "6873255c",
   "metadata": {},
   "outputs": [],
   "source": [
    "#'Ideal', 'Premium', 'Good', 'Very Good', 'Fair'\n",
    "ax = df[df['cut'] == 'Ideal'][0:50].plot(kind='scatter', x='carat', y='price', color='Red', label='Ideal');\n",
    "df[df['cut'] == 'Premium'][0:50].plot(kind='scatter', x='carat', y='price', color='Green', label='Good', ax=ax);\n",
    "df[df['cut'] == 'Good'][0:50].plot(kind='scatter', x='carat', y='price', color='yellow', label='Very Good', ax=ax);\n",
    "df[df['cut'] == 'Very Good'][0:50].plot(kind='scatter', x='carat', y='price', color='blue', label='Fair', ax=ax);\n",
    "df[df['cut'] == 'Fair'][0:50].plot(kind='scatter', x='carat', y='price', color='orange', label='Premium', ax=ax);\n",
    "plt.show()\n",
    "#plt.savefig('caratvsprice.png')"
   ]
  },
  {
   "cell_type": "code",
   "execution_count": null,
   "id": "24d5233d",
   "metadata": {},
   "outputs": [],
   "source": [
    "# 'E', 'I', 'J', 'H', 'F', 'G', 'D'\n",
    "ax = df[df['color'] == 'E'][0:20].plot(kind='scatter', x='carat', y='price', color='Red', label='E');\n",
    "df[df['color'] == 'I'][0:20].plot(kind='scatter', x='carat', y='price', color='Green', label='I', ax=ax);\n",
    "df[df['color'] == 'J'][0:20].plot(kind='scatter', x='carat', y='price', color='yellow', label='J', ax=ax);\n",
    "df[df['color'] == 'H'][0:20].plot(kind='scatter', x='carat', y='price', color='blue', label='H', ax=ax);\n",
    "df[df['color'] == 'F'][0:20].plot(kind='scatter', x='carat', y='price', color='orange', label='F', ax=ax);\n",
    "df[df['color'] == 'G'][0:20].plot(kind='scatter', x='carat', y='price', color='blue', label='G', ax=ax);\n",
    "df[df['color'] == 'D'][0:20].plot(kind='scatter', x='carat', y='price', color='orange', label='D', ax=ax);\n",
    "plt.show()\n",
    "#plt.savefig('cutscatter.png')"
   ]
  },
  {
   "cell_type": "code",
   "execution_count": null,
   "id": "d5bbd724",
   "metadata": {},
   "outputs": [],
   "source": [
    "#'SI2', 'SI1', 'VS1', 'VS2', 'VVS2', 'VVS1', 'I1', 'IF'\n",
    "ax = df[df['clarity'] == 'SI2'][0:20].plot(kind='scatter', x='carat', y='price', color='Red', label='SI2');\n",
    "df[df['clarity'] == 'SI1'][0:20].plot(kind='scatter', x='carat', y='price', color='Green', label='SI1', ax=ax);\n",
    "df[df['clarity'] == 'VS1'][0:20].plot(kind='scatter', x='carat', y='price', color='yellow', label='VS1', ax=ax);\n",
    "df[df['clarity'] == 'VS2'][0:20].plot(kind='scatter', x='carat', y='price', color='blue', label='VS2', ax=ax);\n",
    "df[df['clarity'] == 'VVS2'][0:20].plot(kind='scatter', x='carat', y='price', color='orange', label='VVS2', ax=ax);\n",
    "df[df['clarity'] == 'VVS1'][0:20].plot(kind='scatter', x='carat', y='price', color='blue', label='VVS1', ax=ax);\n",
    "df[df['clarity'] == 'I1'][0:20].plot(kind='scatter', x='carat', y='price', color='orange', label='I1', ax=ax);\n",
    "df[df['clarity'] == 'IF'][0:20].plot(kind='scatter', x='carat', y='price', color='cyan', label='IF', ax=ax);\n",
    "plt.show()\n",
    "#plt.savefig('clarityscatter.png')"
   ]
  },
  {
   "cell_type": "code",
   "execution_count": null,
   "id": "a3d7124e",
   "metadata": {},
   "outputs": [],
   "source": [
    "mean_price_by_cut = df[[\"cut\",\"price\"]].groupby([\"cut\"], as_index = False).mean().sort_values(by=\"price\",ascending = False)\n",
    "plt.figure(figsize=(10,7))\n",
    "sns.barplot(x = mean_price_by_cut['cut'], y = mean_price_by_cut['price'], palette=\"Set1\")\n",
    "\n",
    "plt.ylabel('Price')\n",
    "plt.xlabel('cut', style = 'normal', size = 24)\n",
    "\n",
    "plt.xticks(rotation = 0, size = 12)\n",
    "plt.yticks(rotation = 0, size = 12)\n",
    "\n",
    "plt.title('Average \"price\" Relative to \"cut\"',color = 'black',fontsize=15)\n",
    "plt.show()\n",
    "#plt.savefig('avg price cut.png')"
   ]
  },
  {
   "cell_type": "code",
   "execution_count": null,
   "id": "c08578d8",
   "metadata": {},
   "outputs": [],
   "source": [
    "mean_price_by_cut = df[[\"color\",\"price\"]].groupby([\"color\"], as_index = False).mean().sort_values(by=\"price\",ascending = False)\n",
    "plt.figure(figsize=(10,7))\n",
    "sns.barplot(x = mean_price_by_cut['color'], y = mean_price_by_cut['price'], palette=\"Set1\")\n",
    "\n",
    "plt.ylabel('Price')\n",
    "plt.xlabel('Color', style = 'normal', size = 24)\n",
    "\n",
    "plt.xticks(rotation = 0, size = 12)\n",
    "plt.yticks(rotation = 0, size = 12)\n",
    "\n",
    "plt.title('Average \"price\" Relative to \"Color\"',color = 'black',fontsize=15)\n",
    "plt.show()\n",
    "#plt.savefig('avg price color.png')"
   ]
  },
  {
   "cell_type": "code",
   "execution_count": null,
   "id": "5ea2accf",
   "metadata": {},
   "outputs": [],
   "source": [
    "mean_price_by_cut = df[[\"clarity\",\"price\"]].groupby([\"clarity\"], as_index = False).mean().sort_values(by=\"price\",ascending = False)\n",
    "plt.figure(figsize=(10,7))\n",
    "sns.barplot(x = mean_price_by_cut['clarity'], y = mean_price_by_cut['price'], palette=\"Set1\")\n",
    "\n",
    "plt.ylabel('Price')\n",
    "plt.xlabel('Clarity', style = 'normal', size = 24)\n",
    "\n",
    "plt.xticks(rotation = 0, size = 12)\n",
    "plt.yticks(rotation = 0, size = 12)\n",
    "\n",
    "plt.title('Average \"price\" Relative to \"Clarity\"',color = 'black',fontsize=15)\n",
    "plt.show()\n",
    "#plt.savefig('avg price clarity.png')"
   ]
  },
  {
   "cell_type": "code",
   "execution_count": null,
   "id": "6b6d9b06",
   "metadata": {},
   "outputs": [],
   "source": [
    "# Encode the categorical data\n",
    "from sklearn.preprocessing import LabelEncoder\n",
    "\n",
    "le = LabelEncoder()\n",
    "\n",
    "df.cut = le.fit_transform(df.cut)\n",
    "\n",
    "df.color = le.fit_transform(df.color)\n",
    "\n",
    "df.clarity = le.fit_transform(df.clarity)\n"
   ]
  },
  {
   "cell_type": "code",
   "execution_count": null,
   "id": "cdf717ea",
   "metadata": {},
   "outputs": [],
   "source": [
    "df.head()"
   ]
  },
  {
   "cell_type": "code",
   "execution_count": null,
   "id": "5370f6a4",
   "metadata": {},
   "outputs": [],
   "source": [
    "df.info()"
   ]
  },
  {
   "cell_type": "code",
   "execution_count": null,
   "id": "f01c7eb5",
   "metadata": {},
   "outputs": [],
   "source": [
    "# Outlier Treatment\n",
    "from collections import Counter\n",
    "def detect_outliers(df,features):\n",
    "    outlier_indices = []\n",
    "    for c in features:\n",
    "        # 1st quartile\n",
    "        Q1 = np.percentile(df[c],25)\n",
    "        # 3rd quartile\n",
    "        Q3 = np.percentile(df[c],75)\n",
    "        # IQR\n",
    "        IQR = Q3 - Q1\n",
    "        # Outlier step\n",
    "        outlier_step = IQR * 1.5\n",
    "        # detect outlier and their indeces\n",
    "        outlier_list_col = df[(df[c] < Q1 - outlier_step) | (df[c] > Q3 + outlier_step)].index\n",
    "        # store indeces\n",
    "        outlier_indices.extend(outlier_list_col)\n",
    "    \n",
    "    outlier_indices = Counter(outlier_indices)\n",
    "    multiple_outliers = list(i for i, v in outlier_indices.items() if v > 2)\n",
    "    return multiple_outliers\n",
    "\n",
    "df.loc[detect_outliers(df, ['carat', 'depth', 'table', 'x', 'y', 'z', 'price'])]\n"
   ]
  },
  {
   "cell_type": "code",
   "execution_count": null,
   "id": "09b5ab5b",
   "metadata": {},
   "outputs": [],
   "source": [
    "df = df.drop(detect_outliers(df,['carat', 'depth', 'table', 'x', 'y', 'z', 'price']),axis = 0).reset_index(drop = True)"
   ]
  },
  {
   "cell_type": "code",
   "execution_count": null,
   "id": "88aec4fd",
   "metadata": {},
   "outputs": [],
   "source": [
    "df.shape"
   ]
  },
  {
   "cell_type": "code",
   "execution_count": null,
   "id": "3610a685",
   "metadata": {},
   "outputs": [],
   "source": [
    "### Feature Selection\n",
    "\n",
    "X = df.drop(['Unnamed: 0', 'price'], axis = 1)\n",
    "X.head()"
   ]
  },
  {
   "cell_type": "code",
   "execution_count": null,
   "id": "63462c7f",
   "metadata": {},
   "outputs": [],
   "source": [
    "y  = df['price']\n",
    "y.head()"
   ]
  },
  {
   "cell_type": "code",
   "execution_count": null,
   "id": "bb3a17f5",
   "metadata": {},
   "outputs": [],
   "source": [
    "# Standardise data\n",
    "from sklearn.preprocessing import StandardScaler\n",
    "scaler = StandardScaler()\n",
    "X = scaler.fit_transform(X)\n",
    "X"
   ]
  },
  {
   "cell_type": "code",
   "execution_count": null,
   "id": "5dc6dd69",
   "metadata": {},
   "outputs": [],
   "source": [
    "df_temp = pd.DataFrame(X, columns = ['carat', 'cut', 'color', 'clarity', 'depth', 'table', 'x', 'y', 'z'])\n",
    "df_temp.hist()"
   ]
  },
  {
   "cell_type": "markdown",
   "id": "091701b2",
   "metadata": {},
   "source": [
    "### PCA"
   ]
  },
  {
   "cell_type": "code",
   "execution_count": null,
   "id": "41c6732e",
   "metadata": {},
   "outputs": [],
   "source": [
    "# Train Test Split\n",
    "from sklearn import model_selection\n",
    "X_train, X_test, y_train, y_test = model_selection.train_test_split(X, y, test_size=0.25, random_state=42)"
   ]
  },
  {
   "cell_type": "code",
   "execution_count": null,
   "id": "c9582528",
   "metadata": {},
   "outputs": [],
   "source": [
    "from sklearn.decomposition import PCA\n",
    "pca=PCA(n_components=9)\n",
    "pca.fit(X_train)\n",
    "plt.plot(np.cumsum(pca.explained_variance_ratio_))\n",
    "plt.title(\"PCA spectrum\")\n",
    "plt.xlabel(\"Number of columns\")\n",
    "plt.ylabel(\"Cumulative explained variance\")\n",
    "plt.savefig('pca spectrum.png')"
   ]
  },
  {
   "cell_type": "code",
   "execution_count": null,
   "id": "33c1f067",
   "metadata": {},
   "outputs": [],
   "source": [
    "pca_tx=PCA(n_components=3, random_state = 0)\n",
    "X_pca_train=pca_tx.fit_transform(X_train)\n",
    "y_pca_train=y_train"
   ]
  },
  {
   "cell_type": "code",
   "execution_count": null,
   "id": "897aef7d",
   "metadata": {},
   "outputs": [],
   "source": [
    "from ipywidgets import interact, fixed\n",
    "from mpl_toolkits.mplot3d import Axes3D\n",
    "\n",
    "fig = plt.figure(figsize=(10, 10))\n",
    "ax = fig.add_subplot(111, projection='3d')\n",
    "xs=X_pca_train[:,0]\n",
    "ys=X_pca_train[:,1]\n",
    "zs = X_pca_train[:,2]\n",
    "ax.scatter(xs, ys, zs)\n",
    "plt.savefig('pca3d.png')"
   ]
  },
  {
   "cell_type": "markdown",
   "id": "24bf2f67",
   "metadata": {},
   "source": [
    "### Linear Regression"
   ]
  },
  {
   "cell_type": "code",
   "execution_count": null,
   "id": "c6339330",
   "metadata": {},
   "outputs": [],
   "source": [
    "from sklearn.linear_model import LinearRegression\n",
    "lin_reg = LinearRegression().fit(X_pca_train, y_pca_train)"
   ]
  },
  {
   "cell_type": "code",
   "execution_count": null,
   "id": "217423c0",
   "metadata": {},
   "outputs": [],
   "source": [
    "# PCA on testing data\n",
    "pca_tx = PCA(n_components=3, random_state = 101)\n",
    "X_pca_test = pca_tx.fit_transform(X_test)"
   ]
  },
  {
   "cell_type": "code",
   "execution_count": null,
   "id": "80bd9c09",
   "metadata": {},
   "outputs": [],
   "source": [
    "pred_linear_pca = lin_reg.predict(X_pca_test)\n",
    "pred_linear_pca"
   ]
  },
  {
   "cell_type": "code",
   "execution_count": null,
   "id": "8f3a9629",
   "metadata": {},
   "outputs": [],
   "source": [
    "print('Mean Ablosute Error: ', mean_absolute_error(pred_linear_pca, y_test))\n",
    "print('Mean Square Error: ', mean_squared_error(pred_linear_pca, y_test))\n",
    "print('R2 Score: ', r2_score(pred_linear_pca, y_test))"
   ]
  },
  {
   "cell_type": "code",
   "execution_count": null,
   "id": "48729b25",
   "metadata": {},
   "outputs": [],
   "source": [
    "sns.set_theme(style=\"white\")\n",
    "sns.jointplot(x=y_test[0:500], y=pred_linear_pca[0:500], kind='reg', color = 'green',line_kws={\"color\": \"red\"})\n",
    "plt.savefig('linearreg.png')"
   ]
  },
  {
   "cell_type": "markdown",
   "id": "90a076a2",
   "metadata": {},
   "source": [
    "### Random Forest Regressor"
   ]
  },
  {
   "cell_type": "code",
   "execution_count": null,
   "id": "fc2463cd",
   "metadata": {},
   "outputs": [],
   "source": [
    "from sklearn.ensemble import RandomForestRegressor\n",
    "reg_RF = RandomForestRegressor(n_estimators = 100, random_state = 42)\n",
    "reg_RF.fit(X_pca_train, y_pca_train)  "
   ]
  },
  {
   "cell_type": "code",
   "execution_count": null,
   "id": "e5d8c4b0",
   "metadata": {},
   "outputs": [],
   "source": [
    "pred_RF = reg_RF.predict(X_pca_test) \n",
    "pred_RF"
   ]
  },
  {
   "cell_type": "code",
   "execution_count": null,
   "id": "93af24aa",
   "metadata": {},
   "outputs": [],
   "source": [
    "print('Mean Ablosute Error: ', mean_absolute_error(pred_RF, y_test))\n",
    "print('Mean Square Error: ', mean_squared_error(pred_RF, y_test))\n",
    "print('R2 Score: ', r2_score(pred_RF, y_test))"
   ]
  },
  {
   "cell_type": "code",
   "execution_count": null,
   "id": "bb743355",
   "metadata": {},
   "outputs": [],
   "source": [
    "sns.set_theme(style=\"white\")\n",
    "sns.jointplot(x=y_test[0:500], y=pred_RF[0:500], kind='reg', color = 'green',line_kws={\"color\": \"red\"})\n",
    "plt.savefig('RFreg.png')"
   ]
  },
  {
   "cell_type": "markdown",
   "id": "5dec92d0",
   "metadata": {},
   "source": [
    "### KNN Regressor\n"
   ]
  },
  {
   "cell_type": "code",
   "execution_count": null,
   "id": "c8144148",
   "metadata": {},
   "outputs": [],
   "source": [
    "from math import sqrt\n",
    "rmse_val = [] #to store rmse values for different k\n",
    "for K in range(20):\n",
    "    K = K+1\n",
    "    model = KNeighborsRegressor(n_neighbors = K)\n",
    "\n",
    "    model.fit(X_pca_train, y_pca_train)  #fit the model\n",
    "    pred=model.predict(X_pca_test) #make prediction on test set\n",
    "    #error = sqrt(mean_squared_error(y_test,pred)) #calculate rmse\n",
    "    error = r2_score(y_test,pred)\n",
    "    rmse_val.append(error) #store rmse values\n",
    "    #print('RMSE value for k= ' , K , 'is:', error)\n",
    "    print('R2 Score value for k= ' , K , 'is:', error)"
   ]
  },
  {
   "cell_type": "code",
   "execution_count": null,
   "id": "dbc9e789",
   "metadata": {},
   "outputs": [],
   "source": [
    "curve = pd.DataFrame(rmse_val) #elbow curve \n",
    "curve.plot()"
   ]
  },
  {
   "cell_type": "code",
   "execution_count": null,
   "id": "069da4c4",
   "metadata": {},
   "outputs": [],
   "source": [
    "from sklearn.neighbors import KNeighborsRegressor\n",
    "knn =  KNeighborsRegressor(n_neighbors=10)\n",
    "knn.fit(X_pca_train, y_pca_train)"
   ]
  },
  {
   "cell_type": "code",
   "execution_count": null,
   "id": "2f5426dc",
   "metadata": {},
   "outputs": [],
   "source": [
    "pred_knn= knn.predict(X_pca_test)\n",
    "pred_knn "
   ]
  },
  {
   "cell_type": "code",
   "execution_count": null,
   "id": "107428cc",
   "metadata": {},
   "outputs": [],
   "source": [
    "print('Mean Ablosute Error: ', mean_absolute_error(pred_knn, y_test))\n",
    "print('Mean Square Error: ', mean_squared_error(pred_knn, y_test))\n",
    "print('R2 Score: ', r2_score(pred_knn, y_test))"
   ]
  },
  {
   "cell_type": "code",
   "execution_count": null,
   "id": "b0308611",
   "metadata": {},
   "outputs": [],
   "source": [
    "sns.set_theme(style=\"white\")\n",
    "sns.jointplot(x=y_test[0:500], y=pred_knn[0:500], kind='reg', color = 'green',line_kws={\"color\": \"red\"})\n",
    "plt.savefig('knnreg.png')"
   ]
  },
  {
   "cell_type": "markdown",
   "id": "3a0b60a0",
   "metadata": {},
   "source": [
    "### Comparision of all models"
   ]
  },
  {
   "cell_type": "code",
   "execution_count": null,
   "id": "4a9b4b05",
   "metadata": {},
   "outputs": [],
   "source": [
    "\n",
    "score = {'KNN': r2_score(pred_knn, y_test), 'Random Forest': r2_score(pred_RF, y_test), 'Linear Regression': r2_score(pred_linear_pca, y_test)}\n",
    "\n",
    "plt.bar(list(score.keys()), list(score.values()), color ='maroon', width = 0.3)\n",
    "plt.ylim(0.5, 0.9)\n",
    "plt.xlabel(\"Model\")\n",
    "plt.ylabel(\"R2 Score\")\n",
    "plt.title(\"R2 Score Comparision\")\n",
    "plt.show()"
   ]
  },
  {
   "cell_type": "code",
   "execution_count": null,
   "id": "9341effc",
   "metadata": {},
   "outputs": [],
   "source": []
  }
 ],
 "metadata": {
  "kernelspec": {
   "display_name": "Python 3 (ipykernel)",
   "language": "python",
   "name": "python3"
  },
  "language_info": {
   "codemirror_mode": {
    "name": "ipython",
    "version": 3
   },
   "file_extension": ".py",
   "mimetype": "text/x-python",
   "name": "python",
   "nbconvert_exporter": "python",
   "pygments_lexer": "ipython3",
   "version": "3.11.5"
  }
 },
 "nbformat": 4,
 "nbformat_minor": 5
}
